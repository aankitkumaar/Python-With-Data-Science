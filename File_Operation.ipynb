{
  "nbformat": 4,
  "nbformat_minor": 0,
  "metadata": {
    "colab": {
      "name": "File Operation.ipynb",
      "provenance": [],
      "authorship_tag": "ABX9TyOkLmOWN0mXiNwEEdDBSAPx",
      "include_colab_link": true
    },
    "kernelspec": {
      "name": "python3",
      "display_name": "Python 3"
    },
    "language_info": {
      "name": "python"
    }
  },
  "cells": [
    {
      "cell_type": "markdown",
      "metadata": {
        "id": "view-in-github",
        "colab_type": "text"
      },
      "source": [
        "<a href=\"https://colab.research.google.com/github/aankitkumaar/Python-With-Data-Science/blob/main/File_Operation.ipynb\" target=\"_parent\"><img src=\"https://colab.research.google.com/assets/colab-badge.svg\" alt=\"Open In Colab\"/></a>"
      ]
    },
    {
      "cell_type": "code",
      "execution_count": 5,
      "metadata": {
        "colab": {
          "base_uri": "https://localhost:8080/"
        },
        "id": "KjszhcEd2aTn",
        "outputId": "7c6a1715-611c-46d1-f75a-c96cfbd34bc0"
      },
      "outputs": [
        {
          "output_type": "stream",
          "name": "stdout",
          "text": [
            "['Name', 'Phone', 'Dist', 'Pin', '']\n",
            "['Ankit', '98122', 'Banka', '813107']\n",
            "['Amit', '98', 'Banka', '81310']\n",
            "['Sankit', '981', 'Banka', '8131']\n",
            "['Sonu', '9812', 'Banka', '813']\n"
          ]
        }
      ],
      "source": [
        "import csv\n",
        "req_file=\"Table.csv\"\n",
        "\n",
        "fo=open(req_file,\"r\")\n",
        "content=csv.reader(fo)\n",
        "for each in content:\n",
        "  print(each)\n",
        "fo.close()"
      ]
    },
    {
      "cell_type": "code",
      "source": [
        "import csv\n",
        "req_file=\"Table.csv\"\n",
        "\n",
        "fo=open(req_file,\"r\")\n",
        "content=fo.readline()\n",
        "fo.close()\n",
        "\n",
        "for each in content:\n",
        "  print(each.strip('\\n'))"
      ],
      "metadata": {
        "colab": {
          "base_uri": "https://localhost:8080/"
        },
        "id": "rASFS59-7Rkd",
        "outputId": "ab921385-3711-45a0-dd7b-f65bb76ddfb6"
      },
      "execution_count": 6,
      "outputs": [
        {
          "output_type": "stream",
          "name": "stdout",
          "text": [
            "N\n",
            "a\n",
            "m\n",
            "e\n",
            ",\n",
            "P\n",
            "h\n",
            "o\n",
            "n\n",
            "e\n",
            ",\n",
            "D\n",
            "i\n",
            "s\n",
            "t\n",
            ",\n",
            "P\n",
            "i\n",
            "n\n",
            ",\n",
            "\n"
          ]
        }
      ]
    },
    {
      "cell_type": "code",
      "source": [
        "import csv\n",
        "req_file=\"Table.csv\"\n",
        "\n",
        "fo=open(req_file,\"r\")\n",
        "data=csv.reader(fo)\n",
        "\n",
        "for each in data:\n",
        "  print(each)\n",
        "\n",
        "fo.close()  "
      ],
      "metadata": {
        "colab": {
          "base_uri": "https://localhost:8080/"
        },
        "id": "bFSeDJhE7WAp",
        "outputId": "0e5c7a70-e76d-40c3-c8ae-0587bfd7c518"
      },
      "execution_count": 7,
      "outputs": [
        {
          "output_type": "stream",
          "name": "stdout",
          "text": [
            "['Name', 'Phone', 'Dist', 'Pin', '']\n",
            "['Ankit', '98122', 'Banka', '813107']\n",
            "['Amit', '98', 'Banka', '81310']\n",
            "['Sankit', '981', 'Banka', '8131']\n",
            "['Sonu', '9812', 'Banka', '813']\n"
          ]
        }
      ]
    },
    {
      "cell_type": "code",
      "source": [
        "import csv\n",
        "req_file=\"Table.csv\"\n",
        "\n",
        "fo=open(req_file,\"r\")\n",
        "data=csv.reader(fo,delimiter =',')\n",
        "for each in data:\n",
        "  print(each)\n",
        "\n",
        "fo.close()  "
      ],
      "metadata": {
        "colab": {
          "base_uri": "https://localhost:8080/"
        },
        "id": "r1VsnPl_8EgE",
        "outputId": "3e0d0ba2-1611-4e8f-e5db-b03a920f6de3"
      },
      "execution_count": 10,
      "outputs": [
        {
          "output_type": "stream",
          "name": "stdout",
          "text": [
            "['Name', 'Phone', 'Dist', 'Pin', '']\n",
            "['Ankit', '98122', 'Banka', '813107']\n",
            "['Amit', '98', 'Banka', '81310']\n",
            "['Sankit', '981', 'Banka', '8131']\n",
            "['Sonu', '9812', 'Banka', '813']\n"
          ]
        }
      ]
    },
    {
      "cell_type": "code",
      "source": [
        "import csv\n",
        "req_file=\"Table.csv\"\n",
        "\n",
        "fo=open(req_file,\"r\")\n",
        "data=csv.reader(fo,delimiter =',')\n",
        "for each in data:\n",
        "  print(each)\n",
        "\n",
        "fo.close()"
      ],
      "metadata": {
        "id": "d38lEFQBIRoV"
      },
      "execution_count": null,
      "outputs": []
    }
  ]
}