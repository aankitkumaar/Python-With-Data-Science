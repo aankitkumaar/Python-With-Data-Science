{
  "nbformat": 4,
  "nbformat_minor": 0,
  "metadata": {
    "colab": {
      "name": "Untitled1.ipynb",
      "provenance": [],
      "authorship_tag": "ABX9TyM1BGzajyk1CxvdpsgpERpK"
    },
    "kernelspec": {
      "name": "python3",
      "display_name": "Python 3"
    },
    "language_info": {
      "name": "python"
    }
  },
  "cells": [
    {
      "cell_type": "code",
      "execution_count": 1,
      "metadata": {
        "colab": {
          "base_uri": "https://localhost:8080/"
        },
        "id": "x445ATxhzhXD",
        "outputId": "88c45b95-6472-493e-ac10-3dbea7aecb1f"
      },
      "outputs": [
        {
          "output_type": "stream",
          "name": "stdout",
          "text": [
            "Score LR :  80.34713719824393\n",
            "Score Random Forest  :  96.57663299785288\n",
            "Score Support Vector MAchine  :  65.58690745832135\n",
            "Score Decision Tree  :  100.0\n",
            "What is your GRE Score (290- 340) : 300\n",
            "What is your TOEFL Score (90 to 120) :91\n",
            "What is your University Rating (1 - 5) : 4\n",
            "Rate your statement of purpose (1 -5) : 4\n",
            "What is stength of Letter of Recommendation(1 -5) : 5\n",
            "What is your CGPA (6 - 10) : 8\n",
            "Do you have reasearch Exp( 0 No / 1 yes) : 1\n",
            "Chance of Admit LR :  [0.62492481]\n",
            "Chance of Admit RFR :  [0.5194]\n",
            "Chance of Admit SVR :  [0.54187972]\n",
            "Chance of Admit DFR :  [0.64]\n"
          ]
        },
        {
          "output_type": "stream",
          "name": "stderr",
          "text": [
            "/usr/local/lib/python3.7/dist-packages/sklearn/base.py:451: UserWarning: X does not have valid feature names, but LinearRegression was fitted with feature names\n",
            "  \"X does not have valid feature names, but\"\n",
            "/usr/local/lib/python3.7/dist-packages/sklearn/base.py:451: UserWarning: X does not have valid feature names, but RandomForestRegressor was fitted with feature names\n",
            "  \"X does not have valid feature names, but\"\n",
            "/usr/local/lib/python3.7/dist-packages/sklearn/base.py:451: UserWarning: X does not have valid feature names, but SVR was fitted with feature names\n",
            "  \"X does not have valid feature names, but\"\n",
            "/usr/local/lib/python3.7/dist-packages/sklearn/base.py:451: UserWarning: X does not have valid feature names, but DecisionTreeRegressor was fitted with feature names\n",
            "  \"X does not have valid feature names, but\"\n"
          ]
        }
      ],
      "source": [
        "import pandas as pd\n",
        "\n",
        "df=pd.read_csv('d20-Admission_Predict.csv')\n",
        "\n",
        "df.drop(['Serial No.'], axis=1, inplace=True)\n",
        "\n",
        "y=df['Chance of Admit']\n",
        "\n",
        "x=df.drop(['Chance of Admit'], axis=1)\n",
        "\n",
        "\n",
        "from sklearn.model_selection import train_test_split\n",
        "\n",
        "from sklearn.linear_model import LinearRegression\n",
        "\n",
        "lr=LinearRegression()\n",
        "lr.fit(x, y)\n",
        "s=lr.score(x,y)\n",
        "print('Score LR : ', s*100)\n",
        "\n",
        "\n",
        "from sklearn.ensemble import RandomForestRegressor\n",
        "\n",
        "rfr=RandomForestRegressor()\n",
        "\n",
        "rfr.fit(x, y)\n",
        "s=rfr.score(x,y)\n",
        "print('Score Random Forest  : ', s*100)\n",
        "\n",
        "\n",
        "from sklearn.svm import SVR\n",
        "\n",
        "svr=SVR()\n",
        "svr.fit(x,y)\n",
        "s=svr.score(x,y)\n",
        "print('Score Support Vector MAchine  : ', s*100)\n",
        "\n",
        "from sklearn.tree import DecisionTreeRegressor\n",
        "dfr=DecisionTreeRegressor()\n",
        "dfr.fit(x,y)\n",
        "s=dfr.score(x,y)\n",
        "print('Score Decision Tree  : ', s*100)\n",
        "\n",
        "\n",
        "gre=int(input('What is your GRE Score (290- 340) : '))\n",
        "toefl=int(input('What is your TOEFL Score (90 to 120) :'))\n",
        "univ=int(input('What is your University Rating (1 - 5) : '))\n",
        "sop=int(input('Rate your statement of purpose (1 -5) : '))\n",
        "lor=int(input('What is stength of Letter of Recommendation(1 -5) : '))\n",
        "cgpa=int(input('What is your CGPA (6 - 10) : '))\n",
        "research=int(input('Do you have reasearch Exp( 0 No / 1 yes) : '))\n",
        "\n",
        "newx=[[gre, toefl, univ, sop, lor, cgpa, research]]\n",
        "\n",
        "newy=lr.predict(newx)\n",
        "print('Chance of Admit LR : ', newy)\n",
        "\n",
        "newy=rfr.predict(newx)\n",
        "print('Chance of Admit RFR : ', newy)\n",
        "\n",
        "newy=svr.predict(newx)\n",
        "print('Chance of Admit SVR : ', newy)\n",
        "\n",
        "newy=dfr.predict(newx)\n",
        "print('Chance of Admit DFR : ', newy)\n"
      ]
    }
  ]
}